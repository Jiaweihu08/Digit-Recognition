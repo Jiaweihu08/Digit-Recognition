{
  "nbformat": 4,
  "nbformat_minor": 0,
  "metadata": {
    "colab": {
      "name": "Kannada MNIST.ipynb",
      "provenance": [],
      "collapsed_sections": [],
      "include_colab_link": true
    },
    "kernelspec": {
      "name": "python3",
      "display_name": "Python 3"
    },
    "accelerator": "GPU"
  },
  "cells": [
    {
      "cell_type": "markdown",
      "metadata": {
        "id": "view-in-github",
        "colab_type": "text"
      },
      "source": [
        "<a href=\"https://colab.research.google.com/github/Jiaweihu08/Kaggle-Competitions/blob/master/Kannada_MNIST.ipynb\" target=\"_parent\"><img src=\"https://colab.research.google.com/assets/colab-badge.svg\" alt=\"Open In Colab\"/></a>"
      ]
    },
    {
      "cell_type": "markdown",
      "metadata": {
        "id": "yXrdkYid6Q27",
        "colab_type": "text"
      },
      "source": [
        "# Kannada MNIST Digit Recognition"
      ]
    },
    {
      "cell_type": "code",
      "metadata": {
        "id": "0Lnr9g4K7CNI",
        "colab_type": "code",
        "outputId": "dde60bb6-1df9-4c37-87c1-cc58c66c93ea",
        "colab": {
          "base_uri": "https://localhost:8080/",
          "height": 122
        }
      },
      "source": [
        "from google.colab import drive\n",
        "drive.mount('/content/drive')"
      ],
      "execution_count": 0,
      "outputs": [
        {
          "output_type": "stream",
          "text": [
            "Go to this URL in a browser: https://accounts.google.com/o/oauth2/auth?client_id=947318989803-6bn6qk8qdgf4n4g3pfee6491hc0brc4i.apps.googleusercontent.com&redirect_uri=urn%3Aietf%3Awg%3Aoauth%3A2.0%3Aoob&scope=email%20https%3A%2F%2Fwww.googleapis.com%2Fauth%2Fdocs.test%20https%3A%2F%2Fwww.googleapis.com%2Fauth%2Fdrive%20https%3A%2F%2Fwww.googleapis.com%2Fauth%2Fdrive.photos.readonly%20https%3A%2F%2Fwww.googleapis.com%2Fauth%2Fpeopleapi.readonly&response_type=code\n",
            "\n",
            "Enter your authorization code:\n",
            "··········\n",
            "Mounted at /content/drive\n"
          ],
          "name": "stdout"
        }
      ]
    },
    {
      "cell_type": "markdown",
      "metadata": {
        "id": "rekbvvfJG_Qq",
        "colab_type": "text"
      },
      "source": [
        "Importing libraries:"
      ]
    },
    {
      "cell_type": "code",
      "metadata": {
        "id": "JTmTIOdx6NaA",
        "colab_type": "code",
        "colab": {}
      },
      "source": [
        "import pandas as pd\n",
        "import tensorflow as tf\n",
        "import numpy as np\n",
        "import os"
      ],
      "execution_count": 0,
      "outputs": []
    },
    {
      "cell_type": "markdown",
      "metadata": {
        "id": "9Id3erLsHFRi",
        "colab_type": "text"
      },
      "source": [
        "Loading data:"
      ]
    },
    {
      "cell_type": "code",
      "metadata": {
        "id": "Cpxjw4uy6USU",
        "colab_type": "code",
        "colab": {}
      },
      "source": [
        "train_path = './drive/My Drive/Kannada-MNIST/train.csv'\n",
        "test_path = './drive/My Drive/Kannada-MNIST/test.csv'\n",
        "\n",
        "df_train = pd.read_csv(train_path)\n",
        "df_test = pd.read_csv(test_path)\n",
        "\n",
        "#df_train.head()"
      ],
      "execution_count": 0,
      "outputs": []
    },
    {
      "cell_type": "code",
      "metadata": {
        "id": "jMmDNPFEFCSO",
        "colab_type": "code",
        "outputId": "b7671885-37ca-4b20-e786-a25620903112",
        "colab": {
          "base_uri": "https://localhost:8080/",
          "height": 68
        }
      },
      "source": [
        "X_train = df_train.drop(columns='label')\n",
        "Y_train = df_train['label']\n",
        "\n",
        "X_test = df_test.drop(columns='id')\n",
        "\n",
        "print('Training set size: ', X_train.shape)\n",
        "print('Testing set size: ', X_test.shape)\n",
        "print('Number of classes:', len(set(Y_train)))"
      ],
      "execution_count": 0,
      "outputs": [
        {
          "output_type": "stream",
          "text": [
            "Training set size:  (60000, 784)\n",
            "Testing set size:  (5000, 784)\n",
            "Number of classes: 10\n"
          ],
          "name": "stdout"
        }
      ]
    },
    {
      "cell_type": "code",
      "metadata": {
        "id": "qrpWa2PNMin3",
        "colab_type": "code",
        "outputId": "cebc3de1-b079-47d8-8c6a-0d7b326e3770",
        "colab": {
          "base_uri": "https://localhost:8080/",
          "height": 204
        }
      },
      "source": [
        "Y_train.value_counts()"
      ],
      "execution_count": 0,
      "outputs": [
        {
          "output_type": "execute_result",
          "data": {
            "text/plain": [
              "9    6000\n",
              "8    6000\n",
              "7    6000\n",
              "6    6000\n",
              "5    6000\n",
              "4    6000\n",
              "3    6000\n",
              "2    6000\n",
              "1    6000\n",
              "0    6000\n",
              "Name: label, dtype: int64"
            ]
          },
          "metadata": {
            "tags": []
          },
          "execution_count": 5
        }
      ]
    },
    {
      "cell_type": "code",
      "metadata": {
        "id": "n4HSpNd6J6Td",
        "colab_type": "code",
        "outputId": "1d22127d-d280-4d10-8b18-4f00cf3d3402",
        "colab": {
          "base_uri": "https://localhost:8080/",
          "height": 300
        }
      },
      "source": [
        "import seaborn as sns\n",
        "\n",
        "sns.countplot(Y_train)"
      ],
      "execution_count": 0,
      "outputs": [
        {
          "output_type": "execute_result",
          "data": {
            "text/plain": [
              "<matplotlib.axes._subplots.AxesSubplot at 0x7f23d2b2f7b8>"
            ]
          },
          "metadata": {
            "tags": []
          },
          "execution_count": 6
        },
        {
          "output_type": "display_data",
          "data": {
            "image/png": "[encoded data removed]",
            "text/plain": [
              "<Figure size 432x288 with 1 Axes>"
            ]
          },
          "metadata": {
            "tags": []
          }
        }
      ]
    },
    {
      "cell_type": "markdown",
      "metadata": {
        "id": "CaxZZsKLHdYk",
        "colab_type": "text"
      },
      "source": [
        "Check missing values:"
      ]
    },
    {
      "cell_type": "code",
      "metadata": {
        "id": "z2yoGv2lF_9m",
        "colab_type": "code",
        "outputId": "6c02b996-77a7-45b1-afca-da304a0ee4ac",
        "colab": {
          "base_uri": "https://localhost:8080/",
          "height": 102
        }
      },
      "source": [
        "X_train.isnull().any().describe()"
      ],
      "execution_count": 0,
      "outputs": [
        {
          "output_type": "execute_result",
          "data": {
            "text/plain": [
              "count       784\n",
              "unique        1\n",
              "top       False\n",
              "freq        784\n",
              "dtype: object"
            ]
          },
          "metadata": {
            "tags": []
          },
          "execution_count": 7
        }
      ]
    },
    {
      "cell_type": "code",
      "metadata": {
        "id": "41y4QfsyGvsY",
        "colab_type": "code",
        "outputId": "38c8f9a1-5d73-4419-d873-7e730fd3bc30",
        "colab": {
          "base_uri": "https://localhost:8080/",
          "height": 102
        }
      },
      "source": [
        "X_test.isnull().any().describe()"
      ],
      "execution_count": 0,
      "outputs": [
        {
          "output_type": "execute_result",
          "data": {
            "text/plain": [
              "count       784\n",
              "unique        1\n",
              "top       False\n",
              "freq        784\n",
              "dtype: object"
            ]
          },
          "metadata": {
            "tags": []
          },
          "execution_count": 8
        }
      ]
    },
    {
      "cell_type": "markdown",
      "metadata": {
        "id": "yf4uC8veHjUe",
        "colab_type": "text"
      },
      "source": [
        "Split training data into training and validation sets:"
      ]
    },
    {
      "cell_type": "code",
      "metadata": {
        "id": "1AEVTYFqG77r",
        "colab_type": "code",
        "outputId": "1ac427b1-afa0-4fb5-f3e8-a23b857af2f6",
        "colab": {
          "base_uri": "https://localhost:8080/",
          "height": 51
        }
      },
      "source": [
        "from sklearn.model_selection import train_test_split\n",
        "\n",
        "# Turn our data into numpy arrays.\n",
        "X_train, Y_train = X_train.values, Y_train.values\n",
        "\n",
        "# Splitting the data into training and validation sets.\n",
        "x_train, x_val, y_train, y_val = train_test_split(X_train, Y_train, test_size=0.05, random_state=0)\n",
        "\n",
        "print('Training set size: ', x_train.shape[0])\n",
        "print('Validation set size: ', x_val.shape[0])"
      ],
      "execution_count": 0,
      "outputs": [
        {
          "output_type": "stream",
          "text": [
            "Training set size:  57000\n",
            "Validation set size:  3000\n"
          ],
          "name": "stdout"
        }
      ]
    },
    {
      "cell_type": "markdown",
      "metadata": {
        "id": "oHy40bJzNphM",
        "colab_type": "text"
      },
      "source": [
        "Data Normalization and reshaping:"
      ]
    },
    {
      "cell_type": "code",
      "metadata": {
        "id": "EthIQVyANXFH",
        "colab_type": "code",
        "outputId": "e0576d24-97fc-4b68-d91b-ba2431d69ddd",
        "colab": {
          "base_uri": "https://localhost:8080/",
          "height": 51
        }
      },
      "source": [
        "x_train = x_train/255.\n",
        "x_val = x_val/255.\n",
        "\n",
        "x_train = x_train.reshape(-1, 28, 28, 1)\n",
        "x_val = x_val.reshape(-1, 28, 28, 1)\n",
        "\n",
        "print(x_train.shape)\n",
        "print(x_val.shape)"
      ],
      "execution_count": 0,
      "outputs": [
        {
          "output_type": "stream",
          "text": [
            "(57000, 28, 28, 1)\n",
            "(3000, 28, 28, 1)\n"
          ],
          "name": "stdout"
        }
      ]
    },
    {
      "cell_type": "code",
      "metadata": {
        "id": "5OS2rzyCOrum",
        "colab_type": "code",
        "outputId": "c9abe46e-04e6-4ecf-dc29-c779b90e6bb8",
        "colab": {
          "base_uri": "https://localhost:8080/",
          "height": 269
        }
      },
      "source": [
        "import matplotlib.pyplot as plt\n",
        "#%matplotlib inline\n",
        "\n",
        "plt.imshow(x_train[4][:,:,0])\n",
        "plt.show()"
      ],
      "execution_count": 0,
      "outputs": [
        {
          "output_type": "display_data",
          "data": {
            "image/png": "[encoded data removed]",
            "text/plain": [
              "<Figure size 432x288 with 1 Axes>"
            ]
          },
          "metadata": {
            "tags": []
          }
        }
      ]
    },
    {
      "cell_type": "code",
      "metadata": {
        "id": "hEsZMzL8NFjb",
        "colab_type": "code",
        "outputId": "7bc4c294-4e5c-410a-ca53-fedd548a93c9",
        "colab": {
          "base_uri": "https://localhost:8080/",
          "height": 1000
        }
      },
      "source": [
        "model = tf.keras.models.Sequential([\n",
        "    tf.keras.layers.Conv2D(16, (3,3), activation='relu', input_shape=(28,28,1)),\n",
        "    tf.keras.layers.MaxPooling2D((2,2)),\n",
        "    tf.keras.layers.Conv2D(32, (3,3), activation='relu'),\n",
        "    tf.keras.layers.MaxPooling2D((2,2)),\n",
        "    tf.keras.layers.Flatten(),\n",
        "    tf.keras.layers.Dense(512, activation='relu'),\n",
        "    tf.keras.layers.Dense(10, activation='softmax')\n",
        "])\n",
        "\n",
        "\n",
        "model.compile(optimizer='adam', loss='sparse_categorical_crossentropy', metrics=['acc'])\n",
        "\n",
        "epochs = 30\n",
        "batch_size = 86\n",
        "\n",
        "hist = model.fit(x_train, y_train, epochs=epochs, batch_size=batch_size, validation_data=(x_val, y_val), verbose=2)"
      ],
      "execution_count": 0,
      "outputs": [
        {
          "output_type": "stream",
          "text": [
            "WARNING:tensorflow:From /usr/local/lib/python3.6/dist-packages/tensorflow_core/python/ops/resource_variable_ops.py:1630: calling BaseResourceVariable.__init__ (from tensorflow.python.ops.resource_variable_ops) with constraint is deprecated and will be removed in a future version.\n",
            "Instructions for updating:\n",
            "If using Keras pass *_constraint arguments to layers.\n",
            "Train on 57000 samples, validate on 3000 samples\n",
            "Epoch 1/30\n",
            "57000/57000 - 7s - loss: 0.1268 - acc: 0.9640 - val_loss: 0.0432 - val_acc: 0.9850\n",
            "Epoch 2/30\n",
            "57000/57000 - 4s - loss: 0.0344 - acc: 0.9895 - val_loss: 0.0346 - val_acc: 0.9893\n",
            "Epoch 3/30\n",
            "57000/57000 - 4s - loss: 0.0228 - acc: 0.9932 - val_loss: 0.0305 - val_acc: 0.9903\n",
            "Epoch 4/30\n",
            "57000/57000 - 4s - loss: 0.0181 - acc: 0.9942 - val_loss: 0.0247 - val_acc: 0.9927\n",
            "Epoch 5/30\n",
            "57000/57000 - 4s - loss: 0.0130 - acc: 0.9958 - val_loss: 0.0281 - val_acc: 0.9930\n",
            "Epoch 6/30\n",
            "57000/57000 - 4s - loss: 0.0116 - acc: 0.9964 - val_loss: 0.0259 - val_acc: 0.9913\n",
            "Epoch 7/30\n",
            "57000/57000 - 4s - loss: 0.0090 - acc: 0.9972 - val_loss: 0.0303 - val_acc: 0.9927\n",
            "Epoch 8/30\n",
            "57000/57000 - 4s - loss: 0.0069 - acc: 0.9976 - val_loss: 0.0183 - val_acc: 0.9953\n",
            "Epoch 9/30\n",
            "57000/57000 - 4s - loss: 0.0058 - acc: 0.9982 - val_loss: 0.0395 - val_acc: 0.9907\n",
            "Epoch 10/30\n",
            "57000/57000 - 4s - loss: 0.0047 - acc: 0.9986 - val_loss: 0.0409 - val_acc: 0.9887\n",
            "Epoch 11/30\n",
            "57000/57000 - 4s - loss: 0.0076 - acc: 0.9974 - val_loss: 0.0195 - val_acc: 0.9950\n",
            "Epoch 12/30\n",
            "57000/57000 - 4s - loss: 0.0036 - acc: 0.9989 - val_loss: 0.0287 - val_acc: 0.9943\n",
            "Epoch 13/30\n",
            "57000/57000 - 4s - loss: 0.0036 - acc: 0.9988 - val_loss: 0.0223 - val_acc: 0.9940\n",
            "Epoch 14/30\n",
            "57000/57000 - 4s - loss: 0.0025 - acc: 0.9992 - val_loss: 0.0296 - val_acc: 0.9907\n",
            "Epoch 15/30\n",
            "57000/57000 - 4s - loss: 0.0040 - acc: 0.9990 - val_loss: 0.0224 - val_acc: 0.9947\n",
            "Epoch 16/30\n",
            "57000/57000 - 4s - loss: 0.0011 - acc: 0.9996 - val_loss: 0.0179 - val_acc: 0.9953\n",
            "Epoch 17/30\n",
            "57000/57000 - 4s - loss: 0.0048 - acc: 0.9985 - val_loss: 0.0233 - val_acc: 0.9940\n",
            "Epoch 18/30\n",
            "57000/57000 - 4s - loss: 0.0021 - acc: 0.9992 - val_loss: 0.0262 - val_acc: 0.9950\n",
            "Epoch 19/30\n",
            "57000/57000 - 4s - loss: 8.2645e-04 - acc: 0.9998 - val_loss: 0.0252 - val_acc: 0.9937\n",
            "Epoch 20/30\n",
            "57000/57000 - 4s - loss: 2.3804e-04 - acc: 0.9999 - val_loss: 0.0283 - val_acc: 0.9950\n",
            "Epoch 21/30\n",
            "57000/57000 - 4s - loss: 0.0040 - acc: 0.9987 - val_loss: 0.0285 - val_acc: 0.9940\n",
            "Epoch 22/30\n",
            "57000/57000 - 4s - loss: 0.0019 - acc: 0.9993 - val_loss: 0.0326 - val_acc: 0.9953\n",
            "Epoch 23/30\n",
            "57000/57000 - 4s - loss: 7.0158e-04 - acc: 0.9997 - val_loss: 0.0368 - val_acc: 0.9943\n",
            "Epoch 24/30\n",
            "57000/57000 - 4s - loss: 0.0031 - acc: 0.9990 - val_loss: 0.0299 - val_acc: 0.9950\n",
            "Epoch 25/30\n",
            "57000/57000 - 4s - loss: 5.0552e-04 - acc: 0.9998 - val_loss: 0.0259 - val_acc: 0.9953\n",
            "Epoch 26/30\n",
            "57000/57000 - 4s - loss: 0.0016 - acc: 0.9995 - val_loss: 0.0256 - val_acc: 0.9950\n",
            "Epoch 27/30\n",
            "57000/57000 - 4s - loss: 0.0014 - acc: 0.9995 - val_loss: 0.0245 - val_acc: 0.9957\n",
            "Epoch 28/30\n",
            "57000/57000 - 4s - loss: 0.0013 - acc: 0.9995 - val_loss: 0.0369 - val_acc: 0.9943\n",
            "Epoch 29/30\n",
            "57000/57000 - 4s - loss: 0.0024 - acc: 0.9992 - val_loss: 0.0275 - val_acc: 0.9940\n",
            "Epoch 30/30\n",
            "57000/57000 - 4s - loss: 0.0013 - acc: 0.9996 - val_loss: 0.0349 - val_acc: 0.9950\n"
          ],
          "name": "stdout"
        }
      ]
    },
    {
      "cell_type": "code",
      "metadata": {
        "id": "Fa_PspN0W2Br",
        "colab_type": "code",
        "outputId": "6e38f796-018a-4ed8-e9bb-7f467630081b",
        "colab": {
          "base_uri": "https://localhost:8080/",
          "height": 281
        }
      },
      "source": [
        "train_acc = hist.history['acc']\n",
        "val_acc = hist.history['val_acc']\n",
        "\n",
        "train_loss = hist.history['loss']\n",
        "val_loss = hist.history['val_loss']\n",
        "\n",
        "epochs = range(len(train_acc))\n",
        "\n",
        "#plt.plot(epochs, train_acc, 'b', label='Training Accuracy')\n",
        "#plt.plot(epochs, val_acc, 'r', label='Validation Accuracy')\n",
        "#plt.title('Training and Validation Accuracy')\n",
        "#plt.legend()\n",
        "\n",
        "plt.plot(epochs, train_loss, 'b', label='Training loss')\n",
        "plt.plot(epochs, val_loss, 'r', label='Validation loss')\n",
        "plt.title('Training and Validation loss')\n",
        "plt.legend()\n",
        "\n",
        "plt.show()"
      ],
      "execution_count": 0,
      "outputs": [
        {
          "output_type": "display_data",
          "data": {
            "image/png": "[encoded data removed]",
            "text/plain": [
              "<Figure size 432x288 with 1 Axes>"
            ]
          },
          "metadata": {
            "tags": []
          }
        }
      ]
    },
    {
      "cell_type": "markdown",
      "metadata": {
        "id": "zqWR-ppzekOm",
        "colab_type": "text"
      },
      "source": [
        "Let's see if combining learning rate annealer and image augmentation can improve the results:"
      ]
    },
    {
      "cell_type": "code",
      "metadata": {
        "id": "7zEiOzsFeEyi",
        "colab_type": "code",
        "outputId": "d1565c3c-f244-4e3d-b8d1-86414d97beec",
        "colab": {
          "base_uri": "https://localhost:8080/",
          "height": 34
        }
      },
      "source": [
        "from keras.preprocessing.image import ImageDataGenerator\n",
        "\n",
        "datagen = ImageDataGenerator(\n",
        "    rotation_range=10,\n",
        "    zoom_range=0.1,\n",
        "    width_shift_range=0.1,\n",
        "    height_shift_range=0.1\n",
        ")\n",
        "\n",
        "datagen.fit(x_train)"
      ],
      "execution_count": 0,
      "outputs": [
        {
          "output_type": "stream",
          "text": [
            "Using TensorFlow backend.\n"
          ],
          "name": "stderr"
        }
      ]
    },
    {
      "cell_type": "code",
      "metadata": {
        "id": "bahqISOkks4D",
        "colab_type": "code",
        "outputId": "8978fc23-2c60-44db-e501-29e34d1f515f",
        "colab": {
          "base_uri": "https://localhost:8080/",
          "height": 1000
        }
      },
      "source": [
        "lr_reduce = tf.keras.callbacks.ReduceLROnPlateau(\n",
        "    monitor='val_acc',\n",
        "    factor=0.5,\n",
        "    patience=3,\n",
        "    min_lr=0.00001,\n",
        "    verbose=1\n",
        ")\n",
        "\n",
        "model.compile(optimizer='adam', loss='sparse_categorical_crossentropy', metrics=['accuracy'])\n",
        "\n",
        "history = model.fit_generator(\n",
        "    datagen.flow(x_train, y_train, batch_size=batch_size),\n",
        "    epochs=30,\n",
        "    verbose=2,\n",
        "    validation_data=(x_val, y_val),\n",
        "    callbacks=[lr_reduce]\n",
        ")"
      ],
      "execution_count": 0,
      "outputs": [
        {
          "output_type": "stream",
          "text": [
            "Epoch 1/30\n",
            "Epoch 1/30\n",
            "3000/663 - 0s - loss: 0.0705 - acc: 0.9963\n",
            "663/663 - 18s - loss: 0.0268 - acc: 0.9915 - val_loss: 0.0170 - val_acc: 0.9963\n",
            "Epoch 2/30\n",
            "Epoch 1/30\n",
            "3000/663 - 0s - loss: 0.0631 - acc: 0.9960\n",
            "663/663 - 17s - loss: 0.0267 - acc: 0.9912 - val_loss: 0.0161 - val_acc: 0.9960\n",
            "Epoch 3/30\n",
            "Epoch 1/30\n",
            "3000/663 - 0s - loss: 0.0168 - acc: 0.9960\n",
            "663/663 - 17s - loss: 0.0248 - acc: 0.9923 - val_loss: 0.0136 - val_acc: 0.9960\n",
            "Epoch 4/30\n",
            "Epoch 1/30\n",
            "3000/663 - 0s - loss: 0.0286 - acc: 0.9960\n",
            "\n",
            "Epoch 00004: ReduceLROnPlateau reducing learning rate to 0.0005000000237487257.\n",
            "663/663 - 17s - loss: 0.0238 - acc: 0.9927 - val_loss: 0.0129 - val_acc: 0.9960\n",
            "Epoch 5/30\n",
            "Epoch 1/30\n",
            "3000/663 - 0s - loss: 0.0336 - acc: 0.9963\n",
            "663/663 - 17s - loss: 0.0177 - acc: 0.9943 - val_loss: 0.0124 - val_acc: 0.9963\n",
            "Epoch 6/30\n",
            "Epoch 1/30\n",
            "3000/663 - 0s - loss: 0.0211 - acc: 0.9960\n",
            "663/663 - 17s - loss: 0.0168 - acc: 0.9945 - val_loss: 0.0126 - val_acc: 0.9960\n",
            "Epoch 7/30\n",
            "Epoch 1/30\n",
            "3000/663 - 0s - loss: 0.0316 - acc: 0.9967\n",
            "663/663 - 17s - loss: 0.0172 - acc: 0.9943 - val_loss: 0.0114 - val_acc: 0.9967\n",
            "Epoch 8/30\n",
            "Epoch 1/30\n",
            "3000/663 - 0s - loss: 0.0399 - acc: 0.9963\n",
            "663/663 - 17s - loss: 0.0165 - acc: 0.9951 - val_loss: 0.0102 - val_acc: 0.9963\n",
            "Epoch 9/30\n",
            "Epoch 1/30\n",
            "3000/663 - 0s - loss: 0.0282 - acc: 0.9960\n",
            "663/663 - 17s - loss: 0.0161 - acc: 0.9948 - val_loss: 0.0122 - val_acc: 0.9960\n",
            "Epoch 10/30\n",
            "Epoch 1/30\n",
            "3000/663 - 0s - loss: 0.0356 - acc: 0.9957\n",
            "\n",
            "Epoch 00010: ReduceLROnPlateau reducing learning rate to 0.0002500000118743628.\n",
            "663/663 - 16s - loss: 0.0150 - acc: 0.9952 - val_loss: 0.0154 - val_acc: 0.9957\n",
            "Epoch 11/30\n",
            "Epoch 1/30\n",
            "3000/663 - 0s - loss: 0.0341 - acc: 0.9963\n",
            "663/663 - 17s - loss: 0.0132 - acc: 0.9955 - val_loss: 0.0100 - val_acc: 0.9963\n",
            "Epoch 12/30\n",
            "Epoch 1/30\n",
            "3000/663 - 0s - loss: 0.0495 - acc: 0.9970\n",
            "663/663 - 17s - loss: 0.0121 - acc: 0.9961 - val_loss: 0.0106 - val_acc: 0.9970\n",
            "Epoch 13/30\n",
            "Epoch 1/30\n",
            "3000/663 - 0s - loss: 0.0145 - acc: 0.9967\n",
            "663/663 - 17s - loss: 0.0139 - acc: 0.9955 - val_loss: 0.0125 - val_acc: 0.9967\n",
            "Epoch 14/30\n",
            "Epoch 1/30\n",
            "3000/663 - 0s - loss: 0.0221 - acc: 0.9973\n",
            "663/663 - 17s - loss: 0.0136 - acc: 0.9957 - val_loss: 0.0109 - val_acc: 0.9973\n",
            "Epoch 15/30\n",
            "Epoch 1/30\n",
            "3000/663 - 0s - loss: 0.0202 - acc: 0.9967\n",
            "663/663 - 17s - loss: 0.0116 - acc: 0.9960 - val_loss: 0.0100 - val_acc: 0.9967\n",
            "Epoch 16/30\n",
            "Epoch 1/30\n",
            "3000/663 - 0s - loss: 0.0319 - acc: 0.9960\n",
            "663/663 - 17s - loss: 0.0120 - acc: 0.9961 - val_loss: 0.0105 - val_acc: 0.9960\n",
            "Epoch 17/30\n",
            "Epoch 1/30\n",
            "3000/663 - 0s - loss: 0.0099 - acc: 0.9973\n",
            "\n",
            "Epoch 00017: ReduceLROnPlateau reducing learning rate to 0.0001250000059371814.\n",
            "663/663 - 17s - loss: 0.0118 - acc: 0.9963 - val_loss: 0.0088 - val_acc: 0.9973\n",
            "Epoch 18/30\n",
            "Epoch 1/30\n",
            "3000/663 - 0s - loss: 0.0127 - acc: 0.9963\n",
            "663/663 - 17s - loss: 0.0107 - acc: 0.9965 - val_loss: 0.0090 - val_acc: 0.9963\n",
            "Epoch 19/30\n",
            "Epoch 1/30\n",
            "3000/663 - 0s - loss: 0.0145 - acc: 0.9973\n",
            "663/663 - 17s - loss: 0.0108 - acc: 0.9966 - val_loss: 0.0090 - val_acc: 0.9973\n",
            "Epoch 20/30\n",
            "Epoch 1/30\n",
            "3000/663 - 0s - loss: 0.0096 - acc: 0.9973\n",
            "\n",
            "Epoch 00020: ReduceLROnPlateau reducing learning rate to 6.25000029685907e-05.\n",
            "663/663 - 17s - loss: 0.0103 - acc: 0.9965 - val_loss: 0.0085 - val_acc: 0.9973\n",
            "Epoch 21/30\n",
            "Epoch 1/30\n",
            "3000/663 - 0s - loss: 0.0133 - acc: 0.9970\n",
            "663/663 - 17s - loss: 0.0101 - acc: 0.9964 - val_loss: 0.0086 - val_acc: 0.9970\n",
            "Epoch 22/30\n",
            "Epoch 1/30\n",
            "3000/663 - 0s - loss: 0.0143 - acc: 0.9970\n",
            "663/663 - 17s - loss: 0.0106 - acc: 0.9966 - val_loss: 0.0083 - val_acc: 0.9970\n",
            "Epoch 23/30\n",
            "Epoch 1/30\n",
            "3000/663 - 0s - loss: 0.0097 - acc: 0.9977\n",
            "663/663 - 17s - loss: 0.0100 - acc: 0.9965 - val_loss: 0.0083 - val_acc: 0.9977\n",
            "Epoch 24/30\n",
            "Epoch 1/30\n",
            "3000/663 - 0s - loss: 0.0112 - acc: 0.9973\n",
            "663/663 - 17s - loss: 0.0103 - acc: 0.9966 - val_loss: 0.0083 - val_acc: 0.9973\n",
            "Epoch 25/30\n",
            "Epoch 1/30\n",
            "3000/663 - 0s - loss: 0.0149 - acc: 0.9970\n",
            "663/663 - 17s - loss: 0.0095 - acc: 0.9967 - val_loss: 0.0085 - val_acc: 0.9970\n",
            "Epoch 26/30\n",
            "Epoch 1/30\n",
            "3000/663 - 0s - loss: 0.0132 - acc: 0.9967\n",
            "\n",
            "Epoch 00026: ReduceLROnPlateau reducing learning rate to 3.125000148429535e-05.\n",
            "663/663 - 17s - loss: 0.0105 - acc: 0.9964 - val_loss: 0.0085 - val_acc: 0.9967\n",
            "Epoch 27/30\n",
            "Epoch 1/30\n",
            "3000/663 - 0s - loss: 0.0157 - acc: 0.9967\n",
            "663/663 - 17s - loss: 0.0097 - acc: 0.9969 - val_loss: 0.0082 - val_acc: 0.9967\n",
            "Epoch 28/30\n",
            "Epoch 1/30\n",
            "3000/663 - 0s - loss: 0.0140 - acc: 0.9970\n",
            "663/663 - 17s - loss: 0.0100 - acc: 0.9966 - val_loss: 0.0082 - val_acc: 0.9970\n",
            "Epoch 29/30\n",
            "Epoch 1/30\n",
            "3000/663 - 0s - loss: 0.0146 - acc: 0.9970\n",
            "\n",
            "Epoch 00029: ReduceLROnPlateau reducing learning rate to 1.5625000742147677e-05.\n",
            "663/663 - 17s - loss: 0.0087 - acc: 0.9972 - val_loss: 0.0079 - val_acc: 0.9970\n",
            "Epoch 30/30\n",
            "Epoch 1/30\n",
            "3000/663 - 0s - loss: 0.0142 - acc: 0.9970\n",
            "663/663 - 17s - loss: 0.0088 - acc: 0.9972 - val_loss: 0.0080 - val_acc: 0.9970\n"
          ],
          "name": "stdout"
        }
      ]
    },
    {
      "cell_type": "code",
      "metadata": {
        "id": "4sBeAj82nCi-",
        "colab_type": "code",
        "outputId": "9527c3fc-80a1-4642-820f-14e0c1072ced",
        "colab": {
          "base_uri": "https://localhost:8080/",
          "height": 315
        }
      },
      "source": [
        "acc = history.history['acc']\n",
        "val_acc = history.history['val_acc']\n",
        "epochs = range(len(acc))\n",
        "\n",
        "plt.plot(epochs, acc, 'b', label='Training accuracy')\n",
        "plt.plot(epochs, val_acc, 'r', label='Validation accuracy')\n",
        "plt.title('Training and Validation accuracy')\n",
        "plt.legend()\n",
        "\n",
        "plt.figure()"
      ],
      "execution_count": 0,
      "outputs": [
        {
          "output_type": "execute_result",
          "data": {
            "text/plain": [
              "<Figure size 432x288 with 0 Axes>"
            ]
          },
          "metadata": {
            "tags": []
          },
          "execution_count": 31
        },
        {
          "output_type": "display_data",
          "data": {
            "image/png": "[encoded data removed]",
            "text/plain": [
              "<Figure size 432x288 with 1 Axes>"
            ]
          },
          "metadata": {
            "tags": []
          }
        },
        {
          "output_type": "display_data",
          "data": {
            "text/plain": [
              "<Figure size 432x288 with 0 Axes>"
            ]
          },
          "metadata": {
            "tags": []
          }
        }
      ]
    },
    {
      "cell_type": "code",
      "metadata": {
        "id": "oCF1qL6Z0JTC",
        "colab_type": "code",
        "outputId": "d7385cbd-b390-4ccc-86f7-666b7a375619",
        "colab": {
          "base_uri": "https://localhost:8080/",
          "height": 232
        }
      },
      "source": [
        "X_test = X_test.values\n",
        "X_test = X_test/255.\n",
        "x_test = X_test.reshape(-1, 28, 28, 1)\n",
        "\n",
        "results = model.predict_classes(x_test, batch_size=batch_size)\n",
        "results = pd.Series(results, name='label')"
      ],
      "execution_count": 0,
      "outputs": [
        {
          "output_type": "error",
          "ename": "AttributeError",
          "evalue": "ignored",
          "traceback": [
            "\u001b[0;31m---------------------------------------------------------------------------\u001b[0m",
            "\u001b[0;31mAttributeError\u001b[0m                            Traceback (most recent call last)",
            "\u001b[0;32m<ipython-input-9-bd83dbc3c427>\u001b[0m in \u001b[0;36m<module>\u001b[0;34m()\u001b[0m\n\u001b[0;32m----> 1\u001b[0;31m \u001b[0mX_test\u001b[0m \u001b[0;34m=\u001b[0m \u001b[0mX_test\u001b[0m\u001b[0;34m.\u001b[0m\u001b[0mvalues\u001b[0m\u001b[0;34m\u001b[0m\u001b[0;34m\u001b[0m\u001b[0m\n\u001b[0m\u001b[1;32m      2\u001b[0m \u001b[0mX_test\u001b[0m \u001b[0;34m=\u001b[0m \u001b[0mX_test\u001b[0m\u001b[0;34m/\u001b[0m\u001b[0;36m255.\u001b[0m\u001b[0;34m\u001b[0m\u001b[0;34m\u001b[0m\u001b[0m\n\u001b[1;32m      3\u001b[0m \u001b[0mx_test\u001b[0m \u001b[0;34m=\u001b[0m \u001b[0mX_test\u001b[0m\u001b[0;34m.\u001b[0m\u001b[0mreshape\u001b[0m\u001b[0;34m(\u001b[0m\u001b[0;34m-\u001b[0m\u001b[0;36m1\u001b[0m\u001b[0;34m,\u001b[0m \u001b[0;36m28\u001b[0m\u001b[0;34m,\u001b[0m \u001b[0;36m28\u001b[0m\u001b[0;34m,\u001b[0m \u001b[0;36m1\u001b[0m\u001b[0;34m)\u001b[0m\u001b[0;34m\u001b[0m\u001b[0;34m\u001b[0m\u001b[0m\n\u001b[1;32m      4\u001b[0m \u001b[0;34m\u001b[0m\u001b[0m\n\u001b[1;32m      5\u001b[0m \u001b[0mresults\u001b[0m \u001b[0;34m=\u001b[0m \u001b[0mmodel\u001b[0m\u001b[0;34m.\u001b[0m\u001b[0mpredict_classes\u001b[0m\u001b[0;34m(\u001b[0m\u001b[0mx_test\u001b[0m\u001b[0;34m,\u001b[0m \u001b[0mbatch_size\u001b[0m\u001b[0;34m=\u001b[0m\u001b[0mbatch_size\u001b[0m\u001b[0;34m)\u001b[0m\u001b[0;34m\u001b[0m\u001b[0;34m\u001b[0m\u001b[0m\n",
            "\u001b[0;31mAttributeError\u001b[0m: 'numpy.ndarray' object has no attribute 'values'"
          ]
        }
      ]
    },
    {
      "cell_type": "code",
      "metadata": {
        "id": "LtA7pjs23TeL",
        "colab_type": "code",
        "colab": {}
      },
      "source": [
        "submission = pd.concat([df_test['id'], results], axis=1)\n",
        "submission.set_index('id', inplace=True)\n",
        "\n",
        "submission.to_csv('Kannada-MNIST_submission.csv', index=False)"
      ],
      "execution_count": 0,
      "outputs": []
    },
    {
      "cell_type": "code",
      "metadata": {
        "id": "gkgDf4GZ5ahe",
        "colab_type": "code",
        "colab": {}
      },
      "source": [
        "from sklearn.metrics import confusion_matrix\n",
        "import matplotlib.pyplot as plt\n",
        "\n",
        "def plot_confusion_matrix(y_true, y_pred, classes, title, cmap=plt.cm.Blues):\n",
        "    cm = confusion_matrix(y_true, y_pred)\n",
        "    plt.imshow(cm, interpolation='nearest', cmap=cmap)\n",
        "    \n",
        "    plt.xticks(np.arange(10), classes, rotation=45)\n",
        "    plt.yticks(np.arange(10), classes)\n",
        "    plt.title(title)\n",
        "    plt.colorbar()\n",
        "    plt.xlabel('Predicted label')\n",
        "    plt.ylabel('True label')\n",
        "    \n",
        "    for i, j in itertools.product(range(10), range(10)):\n",
        "        plt.text(j, i, cm[i, j],\n",
        "                ha='center',\n",
        "                color='white' if cm[i, j] > cm.max()/2 else 'black')\n",
        "    \n",
        "    plt.tight_layout()"
      ],
      "execution_count": 0,
      "outputs": []
    },
    {
      "cell_type": "code",
      "metadata": {
        "id": "jStjJaYXUlOI",
        "colab_type": "code",
        "outputId": "bd912df4-e242-4254-d59e-387149b13db6",
        "colab": {
          "base_uri": "https://localhost:8080/",
          "height": 297
        }
      },
      "source": [
        "pred = model.predict_classes(x_val)\n",
        "\n",
        "plot_confusion_matrix(y_val, pred, classes=range(10), title='Confusion Matrix')"
      ],
      "execution_count": 0,
      "outputs": [
        {
          "output_type": "display_data",
          "data": {
            "image/png": "[encoded data removed]",
            "text/plain": [
              "<Figure size 432x288 with 2 Axes>"
            ]
          },
          "metadata": {
            "tags": []
          }
        }
      ]
    },
    {
      "cell_type": "code",
      "metadata": {
        "id": "80yG5Yghp4e1",
        "colab_type": "code",
        "colab": {}
      },
      "source": [
        "def plot_top_errors(error_indix, img_errors, y_true_errors, y_pred_errors):\n",
        "    n_row = 2\n",
        "    n_col = 3\n",
        "    n = 0\n",
        "    \n",
        "    fig, ax = plt.subplots(n_row, n_col, sharex=True, sharey=True)\n",
        "    for row, col in itertools.product(range(n_row), range(n_col)):\n",
        "        error = error_indix[n]\n",
        "        ax[row, col].imshow(img_errors[error])\n",
        "        ax[row, col].set_title(\"Predicted label: {}\\nTrue label: {}\".format(y_true_errors[n], y_pred_errors[n]))\n",
        "        n+=1\n",
        "    fig.tight_layout()"
      ],
      "execution_count": 0,
      "outputs": []
    },
    {
      "cell_type": "code",
      "metadata": {
        "id": "TdE4pKEGsfrL",
        "colab_type": "code",
        "outputId": "9cbb79b8-17c0-4763-b00f-4a7ba13dbe3b",
        "colab": {
          "base_uri": "https://localhost:8080/",
          "height": 298
        }
      },
      "source": [
        "errors = (y_val - pred != 0)\n",
        "\n",
        "y_pred_proba = model.predict_proba(x_val)\n",
        "y_pred_proba = np.max(y_pred_proba, axis=1)\n",
        "y_pred_class = model.predict_classes(x_val)\n",
        "\n",
        "y_val_errors = y_val[errors]\n",
        "y_pred_proba_errors = y_pred_proba[errors]\n",
        "y_pred_class_errors = y_pred_class[errors]\n",
        "x_val_errors = x_val[errors].reshape(-1, 28, 28)\n",
        "\n",
        "top_errors = np.argsort(y_pred_proba_errors)\n",
        "\n",
        "\n",
        "plot_top_errors(top_errors, x_val_errors, y_val_errors, y_pred_class_errors)"
      ],
      "execution_count": 0,
      "outputs": [
        {
          "output_type": "display_data",
          "data": {
            "image/png": "[encoded data removed]",
            "text/plain": [
              "<Figure size 432x288 with 6 Axes>"
            ]
          },
          "metadata": {
            "tags": []
          }
        }
      ]
    },
    {
      "cell_type": "code",
      "metadata": {
        "id": "rXilzqGtsx4m",
        "colab_type": "code",
        "colab": {}
      },
      "source": [
        ""
      ],
      "execution_count": 0,
      "outputs": []
    }
  ]
}